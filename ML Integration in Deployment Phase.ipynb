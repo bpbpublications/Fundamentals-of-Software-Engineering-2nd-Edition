{
 "cells": [
  {
   "cell_type": "code",
   "execution_count": 1,
   "id": "2316bee8-7568-4c73-979c-4779139fa4a5",
   "metadata": {},
   "outputs": [
    {
     "name": "stdout",
     "output_type": "stream",
     "text": [
      "Mean Absolute Error for Optimal Deployment Time: 2.87 hours\n",
      "Deployment Success Prediction Accuracy: 66.67%\n",
      "Predicted Optimal Deployment Time: 11.17 hours\n",
      "Deployment Success Prediction: Success\n"
     ]
    },
    {
     "name": "stderr",
     "output_type": "stream",
     "text": [
      "C:\\Users\\KIIT01\\anaconda3\\Lib\\site-packages\\sklearn\\utils\\validation.py:2739: UserWarning: X does not have valid feature names, but RandomForestRegressor was fitted with feature names\n",
      "  warnings.warn(\n",
      "C:\\Users\\KIIT01\\anaconda3\\Lib\\site-packages\\sklearn\\utils\\validation.py:2739: UserWarning: X does not have valid feature names, but RandomForestClassifier was fitted with feature names\n",
      "  warnings.warn(\n"
     ]
    }
   ],
   "source": [
    "# Import necessary libraries\n",
    "import pandas as pd\n",
    "from sklearn.model_selection import train_test_split\n",
    "from sklearn.ensemble import RandomForestRegressor, RandomForestClassifier\n",
    "from sklearn.metrics import mean_absolute_error, accuracy_score\n",
    "\n",
    "# Sample historical deployment data\n",
    "# Each row represents a past deployment with the following attributes:\n",
    "# - 'TrafficLoad': Predicted server load during deployment (in %)\n",
    "# - 'TeamAvailability': Availability of the DevOps team (scale of 1 to 5)\n",
    "# - 'PastIssues': Number of issues encountered in past deployments\n",
    "# - 'TimeOfDay': Time of day for deployment (1: Morning, 2: Afternoon, 3: Evening, 4: Night)\n",
    "# - 'Success': Whether the deployment was successful (1: Success, 0: Rollback)\n",
    "# - 'OptimalTime': Optimal deployment time (in 24-hour format)\n",
    "\n",
    "data = {\n",
    "    'TrafficLoad': [60, 85, 30, 45, 70, 55, 95, 50, 40, 20],\n",
    "    'TeamAvailability': [5, 4, 3, 4, 5, 4, 2, 3, 5, 4],\n",
    "    'PastIssues': [0, 3, 1, 2, 1, 0, 5, 2, 1, 0],\n",
    "    'TimeOfDay': [3, 4, 2, 1, 3, 2, 4, 2, 1, 1],\n",
    "    'Success': [1, 0, 1, 1, 1, 1, 0, 1, 1, 1],\n",
    "    'OptimalTime': [10, 22, 9, 7, 12, 10, 23, 11, 8, 6]\n",
    "}\n",
    "\n",
    "# Convert data into a DataFrame\n",
    "df = pd.DataFrame(data)\n",
    "\n",
    "# Step 1: Define features and target for predicting optimal deployment time (Regression)\n",
    "X_time = df[['TrafficLoad', 'TeamAvailability', 'PastIssues']]\n",
    "y_time = df['OptimalTime']\n",
    "\n",
    "# Step 2: Split the data into training and testing sets for time prediction\n",
    "X_train_time, X_test_time, y_train_time, y_test_time = train_test_split(X_time, y_time, test_size=0.3, random_state=42)\n",
    "\n",
    "# Step 3: Train a Random Forest Regressor for predicting the optimal deployment time\n",
    "time_model = RandomForestRegressor(n_estimators=100, random_state=42)\n",
    "time_model.fit(X_train_time, y_train_time)\n",
    "\n",
    "# Step 4: Make predictions on the test set\n",
    "y_pred_time = time_model.predict(X_test_time)\n",
    "\n",
    "# Evaluate the time prediction model\n",
    "mae_time = mean_absolute_error(y_test_time, y_pred_time)\n",
    "print(f\"Mean Absolute Error for Optimal Deployment Time: {mae_time:.2f} hours\")\n",
    "\n",
    "# Step 5: Define features and target for deciding if deployment should proceed or rollback (Classification)\n",
    "X_success = df[['TrafficLoad', 'TeamAvailability', 'PastIssues', 'TimeOfDay']]\n",
    "y_success = df['Success']\n",
    "\n",
    "# Step 6: Split the data into training and testing sets for deployment success prediction\n",
    "X_train_success, X_test_success, y_train_success, y_test_success = train_test_split(X_success, y_success, test_size=0.3, random_state=42)\n",
    "\n",
    "# Step 7: Train a Random Forest Classifier for predicting deployment success\n",
    "success_model = RandomForestClassifier(n_estimators=100, random_state=42)\n",
    "success_model.fit(X_train_success, y_train_success)\n",
    "\n",
    "# Step 8: Make predictions on the test set\n",
    "y_pred_success = success_model.predict(X_test_success)\n",
    "\n",
    "# Evaluate the success prediction model\n",
    "accuracy_success = accuracy_score(y_test_success, y_pred_success)\n",
    "print(f\"Deployment Success Prediction Accuracy: {accuracy_success * 100:.2f}%\")\n",
    "\n",
    "# Step 9: Predict the optimal deployment time and success for a new deployment\n",
    "new_deployment = [[75, 5, 2]]  # Example input: TrafficLoad 75%, TeamAvailability 5, PastIssues 2\n",
    "new_time = time_model.predict(new_deployment)\n",
    "print(f\"Predicted Optimal Deployment Time: {new_time[0]:.2f} hours\")\n",
    "\n",
    "new_success = [[75, 5, 2, 3]]  # Example input: TrafficLoad 75%, TeamAvailability 5, PastIssues 2, TimeOfDay 3\n",
    "predicted_success = success_model.predict(new_success)\n",
    "print(f\"Deployment Success Prediction: {'Success' if predicted_success[0] == 1 else 'Rollback'}\")\n"
   ]
  },
  {
   "cell_type": "code",
   "execution_count": null,
   "id": "13d0ad16-26df-462f-8634-ce10f0053e00",
   "metadata": {},
   "outputs": [],
   "source": []
  }
 ],
 "metadata": {
  "kernelspec": {
   "display_name": "Python 3 (ipykernel)",
   "language": "python",
   "name": "python3"
  },
  "language_info": {
   "codemirror_mode": {
    "name": "ipython",
    "version": 3
   },
   "file_extension": ".py",
   "mimetype": "text/x-python",
   "name": "python",
   "nbconvert_exporter": "python",
   "pygments_lexer": "ipython3",
   "version": "3.12.7"
  }
 },
 "nbformat": 4,
 "nbformat_minor": 5
}
