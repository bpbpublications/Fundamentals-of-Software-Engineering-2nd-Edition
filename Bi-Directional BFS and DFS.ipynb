{
 "cells": [
  {
   "cell_type": "code",
   "execution_count": 1,
   "id": "7de15350-e29b-458d-ab09-6fecd901b4e7",
   "metadata": {},
   "outputs": [],
   "source": [
    "from collections import deque\n",
    "\n",
    "def bi_directional_bfs(graph, start, goal):\n",
    "    if start == goal:\n",
    "        return [start]\n",
    "\n",
    "    # Initialize front and back queues\n",
    "    front_queue = deque([start])\n",
    "    back_queue = deque([goal])\n",
    "\n",
    "    # Track visited nodes for both searches\n",
    "    front_visited = {start: None}\n",
    "    back_visited = {goal: None}\n",
    "\n",
    "    def intersect_node():\n",
    "        for node in front_visited:\n",
    "            if node in back_visited:\n",
    "                return node\n",
    "        return None\n",
    "\n",
    "    while front_queue and back_queue:\n",
    "        # Expand from the front (start side)\n",
    "        front_current = front_queue.popleft()\n",
    "        for neighbor in graph[front_current]:\n",
    "            if neighbor not in front_visited:\n",
    "                front_queue.append(neighbor)\n",
    "                front_visited[neighbor] = front_current\n",
    "            if neighbor in back_visited:\n",
    "                intersection = neighbor\n",
    "                return reconstruct_path(intersection, front_visited, back_visited)\n",
    "\n",
    "        # Expand from the back (goal side)\n",
    "        back_current = back_queue.popleft()\n",
    "        for neighbor in graph[back_current]:\n",
    "            if neighbor not in back_visited:\n",
    "                back_queue.append(neighbor)\n",
    "                back_visited[neighbor] = back_current\n",
    "            if neighbor in front_visited:\n",
    "                intersection = neighbor\n",
    "                return reconstruct_path(intersection, front_visited, back_visited)\n",
    "\n",
    "    return None\n",
    "\n",
    "def reconstruct_path(intersection, front_visited, back_visited):\n",
    "    # Reconstruct path from start to goal\n",
    "    path = []\n",
    "    \n",
    "    # Traverse forward from the intersection\n",
    "    current = intersection\n",
    "    while current is not None:\n",
    "        path.append(current)\n",
    "        current = front_visited[current]\n",
    "    path.reverse()\n",
    "    \n",
    "    # Traverse backward from the intersection\n",
    "    current = back_visited[intersection]\n",
    "    while current is not None:\n",
    "        path.append(current)\n",
    "        current = back_visited[current]\n",
    "    \n",
    "    return path\n"
   ]
  },
  {
   "cell_type": "code",
   "execution_count": 2,
   "id": "7b66cfc9-c4e7-4d0c-94e8-a3d56352a0c7",
   "metadata": {},
   "outputs": [],
   "source": [
    "def bfs(graph, start, goal):\n",
    "    queue = deque([start])\n",
    "    visited = {start: None}\n",
    "\n",
    "    while queue:\n",
    "        current = queue.popleft()\n",
    "\n",
    "        if current == goal:\n",
    "            return reconstruct_path(current, visited)\n",
    "\n",
    "        for neighbor in graph[current]:\n",
    "            if neighbor not in visited:\n",
    "                visited[neighbor] = current\n",
    "                queue.append(neighbor)\n",
    "\n",
    "    return None\n"
   ]
  },
  {
   "cell_type": "code",
   "execution_count": 4,
   "id": "056dbb7a-0274-4ed6-988e-953387501c57",
   "metadata": {},
   "outputs": [],
   "source": [
    "def dfs(graph, start, goal):\n",
    "    stack = [start]\n",
    "    visited = {start: None}\n",
    "\n",
    "    while stack:\n",
    "        current = stack.pop()\n",
    "\n",
    "        if current == goal:\n",
    "            return reconstruct_path(current, visited)\n",
    "\n",
    "        for neighbor in graph[current]:\n",
    "            if neighbor not in visited:\n",
    "                visited[neighbor] = current\n",
    "                stack.append(neighbor)\n",
    "\n",
    "    return None\n"
   ]
  },
  {
   "cell_type": "code",
   "execution_count": 8,
   "id": "74c571a0-d1a5-4d0d-8a80-5c2016c4ccec",
   "metadata": {},
   "outputs": [
    {
     "data": {
      "image/png": "[encoded data removed]",
      "text/plain": [
       "<Figure size 640x480 with 1 Axes>"
      ]
     },
     "metadata": {},
     "output_type": "display_data"
    }
   ],
   "source": [
    "import networkx as nx\n",
    "import matplotlib.pyplot as plt\n",
    "\n",
    "def visualize_graph(graph, path=None):\n",
    "    G = nx.Graph()\n",
    "\n",
    "    for node, neighbors in graph.items():\n",
    "        for neighbor in neighbors:\n",
    "            G.add_edge(node, neighbor)\n",
    "\n",
    "    pos = nx.spring_layout(G)\n",
    "\n",
    "    # Draw the graph\n",
    "    nx.draw(G, pos, with_labels=True, node_color='lightblue', node_size=500, font_size=10, font_weight='bold')\n",
    "\n",
    "    # Highlight the path if provided\n",
    "    if path:\n",
    "        path_edges = [(path[i], path[i+1]) for i in range(len(path) - 1)]\n",
    "        nx.draw_networkx_edges(G, pos, edgelist=path_edges, edge_color='red', width=2)\n",
    "\n",
    "    plt.show()\n",
    "\n",
    "# Example graph representation\n",
    "graph = {\n",
    "    'A': ['B', 'C'],\n",
    "    'B': ['A', 'D', 'E'],\n",
    "    'C': ['A', 'F'],\n",
    "    'D': ['B'],\n",
    "    'E': ['B', 'F'],\n",
    "    'F': ['C', 'E']\n",
    "}\n",
    "\n",
    "path = bi_directional_bfs(graph, 'A', 'F')\n",
    "visualize_graph(graph, path)\n"
   ]
  },
  {
   "cell_type": "code",
   "execution_count": 6,
   "id": "99f6cde4-149a-4270-b7b5-5053e0cb66c6",
   "metadata": {},
   "outputs": [
    {
     "name": "stdout",
     "output_type": "stream",
     "text": [
      "Collecting matplotlib\n",
      "  Downloading matplotlib-3.10.0-cp312-cp312-win_amd64.whl.metadata (11 kB)\n",
      "Collecting contourpy>=1.0.1 (from matplotlib)\n",
      "  Downloading contourpy-1.3.1-cp312-cp312-win_amd64.whl.metadata (5.4 kB)\n",
      "Collecting cycler>=0.10 (from matplotlib)\n",
      "  Downloading cycler-0.12.1-py3-none-any.whl.metadata (3.8 kB)\n",
      "Collecting fonttools>=4.22.0 (from matplotlib)\n",
      "  Downloading fonttools-4.55.3-cp312-cp312-win_amd64.whl.metadata (168 kB)\n",
      "Collecting kiwisolver>=1.3.1 (from matplotlib)\n",
      "  Downloading kiwisolver-1.4.8-cp312-cp312-win_amd64.whl.metadata (6.3 kB)\n",
      "Collecting numpy>=1.23 (from matplotlib)\n",
      "  Downloading numpy-2.2.1-cp312-cp312-win_amd64.whl.metadata (60 kB)\n",
      "Requirement already satisfied: packaging>=20.0 in c:\\users\\kiit01\\anaconda3\\lib\\site-packages (from matplotlib) (24.1)\n",
      "Requirement already satisfied: pillow>=8 in c:\\users\\kiit01\\anaconda3\\lib\\site-packages (from matplotlib) (10.4.0)\n",
      "Collecting pyparsing>=2.3.1 (from matplotlib)\n",
      "  Downloading pyparsing-3.2.1-py3-none-any.whl.metadata (5.0 kB)\n",
      "Requirement already satisfied: python-dateutil>=2.7 in c:\\users\\kiit01\\anaconda3\\lib\\site-packages (from matplotlib) (2.9.0.post0)\n",
      "Requirement already satisfied: six>=1.5 in c:\\users\\kiit01\\anaconda3\\lib\\site-packages (from python-dateutil>=2.7->matplotlib) (1.16.0)\n",
      "Downloading matplotlib-3.10.0-cp312-cp312-win_amd64.whl (8.0 MB)\n",
      "   ---------------------------------------- 0.0/8.0 MB ? eta -:--:--\n",
      "   ------- -------------------------------- 1.6/8.0 MB 10.5 MB/s eta 0:00:01\n",
      "   ----------------------- ---------------- 4.7/8.0 MB 13.6 MB/s eta 0:00:01\n",
      "   ------------------------------------- -- 7.6/8.0 MB 13.4 MB/s eta 0:00:01\n",
      "   ---------------------------------------- 8.0/8.0 MB 11.9 MB/s eta 0:00:00\n",
      "Downloading contourpy-1.3.1-cp312-cp312-win_amd64.whl (220 kB)\n",
      "Downloading cycler-0.12.1-py3-none-any.whl (8.3 kB)\n",
      "Downloading fonttools-4.55.3-cp312-cp312-win_amd64.whl (2.2 MB)\n",
      "   ---------------------------------------- 0.0/2.2 MB ? eta -:--:--\n",
      "   ---------------------------------------- 2.2/2.2 MB 15.6 MB/s eta 0:00:00\n",
      "Downloading kiwisolver-1.4.8-cp312-cp312-win_amd64.whl (71 kB)\n",
      "Downloading numpy-2.2.1-cp312-cp312-win_amd64.whl (12.6 MB)\n",
      "   ---------------------------------------- 0.0/12.6 MB ? eta -:--:--\n",
      "   ---------- ----------------------------- 3.4/12.6 MB 18.3 MB/s eta 0:00:01\n",
      "   -------------------- ------------------- 6.6/12.6 MB 16.8 MB/s eta 0:00:01\n",
      "   ----------------------------- ---------- 9.4/12.6 MB 16.3 MB/s eta 0:00:01\n",
      "   ---------------------------------- ----- 10.7/12.6 MB 15.3 MB/s eta 0:00:01\n",
      "   ---------------------------------------- 12.6/12.6 MB 14.7 MB/s eta 0:00:00\n",
      "Downloading pyparsing-3.2.1-py3-none-any.whl (107 kB)\n",
      "Installing collected packages: pyparsing, numpy, kiwisolver, fonttools, cycler, contourpy, matplotlib\n",
      "Successfully installed contourpy-1.3.1 cycler-0.12.1 fonttools-4.55.3 kiwisolver-1.4.8 matplotlib-3.10.0 numpy-2.2.1 pyparsing-3.2.1\n",
      "Note: you may need to restart the kernel to use updated packages.\n"
     ]
    }
   ],
   "source": [
    "pip install matplotlib"
   ]
  },
  {
   "cell_type": "code",
   "execution_count": 7,
   "id": "ceb15a96-1f58-4e8b-bb38-6381e2b4445c",
   "metadata": {},
   "outputs": [
    {
     "name": "stdout",
     "output_type": "stream",
     "text": [
      "Requirement already satisfied: networkx in c:\\users\\kiit01\\anaconda3\\lib\\site-packages (3.3)\n",
      "Note: you may need to restart the kernel to use updated packages.\n"
     ]
    }
   ],
   "source": [
    "pip install networkx\n"
   ]
  },
  {
   "cell_type": "code",
   "execution_count": null,
   "id": "990ed44e-e0a9-44e7-90cc-28efef77854c",
   "metadata": {},
   "outputs": [],
   "source": []
  }
 ],
 "metadata": {
  "kernelspec": {
   "display_name": "Python 3 (ipykernel)",
   "language": "python",
   "name": "python3"
  },
  "language_info": {
   "codemirror_mode": {
    "name": "ipython",
    "version": 3
   },
   "file_extension": ".py",
   "mimetype": "text/x-python",
   "name": "python",
   "nbconvert_exporter": "python",
   "pygments_lexer": "ipython3",
   "version": "3.12.7"
  }
 },
 "nbformat": 4,
 "nbformat_minor": 5
}
