{
 "cells": [
  {
   "cell_type": "code",
   "execution_count": null,
   "id": "a39c42ff-46cf-42f9-95f6-b0f9df30e995",
   "metadata": {},
   "outputs": [],
   "source": []
  }
 ],
 "metadata": {
  "kernelspec": {
   "display_name": "",
   "name": ""
  },
  "language_info": {
   "name": ""
  }
 },
 "nbformat": 4,
 "nbformat_minor": 5
}
