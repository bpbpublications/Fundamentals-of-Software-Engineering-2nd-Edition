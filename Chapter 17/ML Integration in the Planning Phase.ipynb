{
 "cells": [
  {
   "cell_type": "code",
   "execution_count": 1,
   "id": "2ac0975b-aa88-439d-a6b4-0390e514234f",
   "metadata": {},
   "outputs": [
    {
     "name": "stdout",
     "output_type": "stream",
     "text": [
      "Mean Absolute Error: 1.89 weeks\n",
      "Predicted Duration for the new project: 10.86 weeks\n"
     ]
    },
    {
     "name": "stderr",
     "output_type": "stream",
     "text": [
      "C:\\Users\\KIIT01\\anaconda3\\Lib\\site-packages\\sklearn\\utils\\validation.py:2739: UserWarning: X does not have valid feature names, but RandomForestRegressor was fitted with feature names\n",
      "  warnings.warn(\n"
     ]
    }
   ],
   "source": [
    "# Import necessary libraries\n",
    "import pandas as pd\n",
    "from sklearn.model_selection import train_test_split\n",
    "from sklearn.ensemble import RandomForestRegressor\n",
    "from sklearn.metrics import mean_absolute_error\n",
    "\n",
    "# Sample historical project data\n",
    "# Each row represents a past project with the following attributes:\n",
    "# - 'Complexity': A rating of project complexity (low = 1, high = 5)\n",
    "# - 'TeamSize': Number of team members involved\n",
    "# - 'Budget': Budget for the project in $1000s\n",
    "# - 'Duration': Duration of the project in weeks (this is the target variable we want to predict)\n",
    "\n",
    "data = {\n",
    "    'Complexity': [1, 3, 4, 5, 2, 3, 1, 4, 5, 2],\n",
    "    'TeamSize': [3, 10, 8, 15, 5, 8, 4, 12, 16, 6],\n",
    "    'Budget': [50, 200, 150, 300, 80, 180, 60, 220, 320, 100],\n",
    "    'Duration': [6, 12, 10, 20, 8, 11, 7, 14, 21, 9]\n",
    "}\n",
    "\n",
    "# Convert data into a DataFrame\n",
    "df = pd.DataFrame(data)\n",
    "\n",
    "# Step 1: Define the feature variables (input) and the target variable (output)\n",
    "X = df[['Complexity', 'TeamSize', 'Budget']]  # Features\n",
    "y = df['Duration']  # Target variable (project duration)\n",
    "\n",
    "# Step 2: Split the data into training and testing sets\n",
    "X_train, X_test, y_train, y_test = train_test_split(X, y, test_size=0.3, random_state=42)\n",
    "\n",
    "# Step 3: Train a Random Forest Regressor model\n",
    "model = RandomForestRegressor(n_estimators=100, random_state=42)\n",
    "model.fit(X_train, y_train)\n",
    "\n",
    "# Step 4: Make predictions on the test set\n",
    "y_pred = model.predict(X_test)\n",
    "\n",
    "# Step 5: Evaluate the model performance using Mean Absolute Error (MAE)\n",
    "mae = mean_absolute_error(y_test, y_pred)\n",
    "print(f'Mean Absolute Error: {mae:.2f} weeks')\n",
    "\n",
    "# Step 6: Predict project duration for a new project\n",
    "new_project = [[4, 10, 150]]  # Example of a new project (Complexity 4, TeamSize 10, Budget $150k)\n",
    "predicted_duration = model.predict(new_project)\n",
    "print(f'Predicted Duration for the new project: {predicted_duration[0]:.2f} weeks')\n"
   ]
  }
 ],
 "metadata": {
  "kernelspec": {
   "display_name": "Python 3 (ipykernel)",
   "language": "python",
   "name": "python3"
  },
  "language_info": {
   "codemirror_mode": {
    "name": "ipython",
    "version": 3
   },
   "file_extension": ".py",
   "mimetype": "text/x-python",
   "name": "python",
   "nbconvert_exporter": "python",
   "pygments_lexer": "ipython3",
   "version": "3.12.7"
  }
 },
 "nbformat": 4,
 "nbformat_minor": 5
}
