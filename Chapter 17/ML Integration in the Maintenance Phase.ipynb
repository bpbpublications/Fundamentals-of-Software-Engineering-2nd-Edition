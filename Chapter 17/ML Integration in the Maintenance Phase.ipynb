{
 "cells": [
  {
   "cell_type": "code",
   "execution_count": 1,
   "id": "5022181e-a52a-48a4-aa24-a114020f971c",
   "metadata": {},
   "outputs": [
    {
     "name": "stdout",
     "output_type": "stream",
     "text": [
      "Classification Report:\n",
      "\n",
      "              precision    recall  f1-score   support\n",
      "\n",
      "           0       1.00      1.00      1.00         2\n",
      "           1       1.00      1.00      1.00         1\n",
      "\n",
      "    accuracy                           1.00         3\n",
      "   macro avg       1.00      1.00      1.00         3\n",
      "weighted avg       1.00      1.00      1.00         3\n",
      "\n",
      "Warning: Potential bug detected! Requires maintenance.\n",
      "System operating normally.\n",
      "Warning: Potential bug detected! Requires maintenance.\n",
      "System operating normally.\n"
     ]
    },
    {
     "name": "stderr",
     "output_type": "stream",
     "text": [
      "C:\\Users\\KIIT01\\anaconda3\\Lib\\site-packages\\sklearn\\utils\\validation.py:2739: UserWarning: X does not have valid feature names, but RandomForestClassifier was fitted with feature names\n",
      "  warnings.warn(\n",
      "C:\\Users\\KIIT01\\anaconda3\\Lib\\site-packages\\sklearn\\utils\\validation.py:2739: UserWarning: X does not have valid feature names, but RandomForestClassifier was fitted with feature names\n",
      "  warnings.warn(\n",
      "C:\\Users\\KIIT01\\anaconda3\\Lib\\site-packages\\sklearn\\utils\\validation.py:2739: UserWarning: X does not have valid feature names, but RandomForestClassifier was fitted with feature names\n",
      "  warnings.warn(\n",
      "C:\\Users\\KIIT01\\anaconda3\\Lib\\site-packages\\sklearn\\utils\\validation.py:2739: UserWarning: X does not have valid feature names, but RandomForestClassifier was fitted with feature names\n",
      "  warnings.warn(\n"
     ]
    }
   ],
   "source": [
    "# Import necessary libraries\n",
    "import pandas as pd\n",
    "from sklearn.model_selection import train_test_split\n",
    "from sklearn.ensemble import RandomForestClassifier\n",
    "from sklearn.metrics import classification_report\n",
    "\n",
    "# Sample log data for training\n",
    "# Each row represents a log entry with the following attributes:\n",
    "# - 'CPUUsage': CPU usage percentage\n",
    "# - 'MemoryUsage': Memory usage percentage\n",
    "# - 'DiskUsage': Disk usage percentage\n",
    "# - 'ErrorCount': Number of errors reported\n",
    "# - 'IsBug': Whether the log entry represents a bug (1) or normal operation (0)\n",
    "\n",
    "data = {\n",
    "    'CPUUsage': [10, 50, 70, 90, 40, 80, 95, 20, 15, 85],\n",
    "    'MemoryUsage': [30, 60, 80, 95, 50, 85, 98, 25, 20, 88],\n",
    "    'DiskUsage': [20, 55, 75, 92, 45, 80, 93, 30, 25, 90],\n",
    "    'ErrorCount': [0, 1, 2, 5, 0, 3, 6, 0, 0, 4],\n",
    "    'IsBug': [0, 0, 1, 1, 0, 1, 1, 0, 0, 1]\n",
    "}\n",
    "\n",
    "# Convert data into a DataFrame\n",
    "df = pd.DataFrame(data)\n",
    "\n",
    "# Step 1: Define the feature variables (input) and the target variable (output)\n",
    "X = df[['CPUUsage', 'MemoryUsage', 'DiskUsage', 'ErrorCount']]  # Features\n",
    "y = df['IsBug']  # Target variable (bug or no bug)\n",
    "\n",
    "# Step 2: Split the data into training and testing sets\n",
    "X_train, X_test, y_train, y_test = train_test_split(X, y, test_size=0.3, random_state=42)\n",
    "\n",
    "# Step 3: Train a Random Forest Classifier model\n",
    "model = RandomForestClassifier(n_estimators=100, random_state=42)\n",
    "model.fit(X_train, y_train)\n",
    "\n",
    "# Step 4: Make predictions on the test set\n",
    "y_pred = model.predict(X_test)\n",
    "\n",
    "# Step 5: Evaluate the model's performance\n",
    "print(\"Classification Report:\\n\")\n",
    "print(classification_report(y_test, y_pred))\n",
    "\n",
    "# Step 6: Simulate monitoring new log entries and report potential bugs\n",
    "def report_maintenance(log_entry):\n",
    "    prediction = model.predict([log_entry])[0]\n",
    "    if prediction == 1:\n",
    "        return \"Warning: Potential bug detected! Requires maintenance.\"\n",
    "    else:\n",
    "        return \"System operating normally.\"\n",
    "\n",
    "# Example new log entries (CPUUsage, MemoryUsage, DiskUsage, ErrorCount)\n",
    "new_logs = [\n",
    "    [85, 90, 92, 3],  # High CPU/Memory/Disk usage with errors (likely a bug)\n",
    "    [25, 40, 30, 0],  # Normal operation\n",
    "    [90, 95, 90, 6],  # Severe resource usage and errors (high probability of bug)\n",
    "    [15, 20, 25, 0]   # Low resource usage and no errors (normal)\n",
    "]\n",
    "\n",
    "# Step 7: Report maintenance needs for new log entries\n",
    "for log in new_logs:\n",
    "    print(report_maintenance(log))\n"
   ]
  },
  {
   "cell_type": "code",
   "execution_count": null,
   "id": "966b6d73-e1ae-426d-9734-225726b58400",
   "metadata": {},
   "outputs": [],
   "source": []
  },
  {
   "cell_type": "code",
   "execution_count": null,
   "id": "18fa5fb5-16ca-47ff-abe5-f9684e6b8a38",
   "metadata": {},
   "outputs": [],
   "source": []
  }
 ],
 "metadata": {
  "kernelspec": {
   "display_name": "Python 3 (ipykernel)",
   "language": "python",
   "name": "python3"
  },
  "language_info": {
   "codemirror_mode": {
    "name": "ipython",
    "version": 3
   },
   "file_extension": ".py",
   "mimetype": "text/x-python",
   "name": "python",
   "nbconvert_exporter": "python",
   "pygments_lexer": "ipython3",
   "version": "3.12.7"
  }
 },
 "nbformat": 4,
 "nbformat_minor": 5
}
