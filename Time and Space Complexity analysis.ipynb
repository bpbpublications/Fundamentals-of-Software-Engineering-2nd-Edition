{
 "cells": [
  {
   "cell_type": "code",
   "execution_count": 1,
   "id": "0a624bc2-0c07-4cc6-af25-4f7ce5aa64f8",
   "metadata": {},
   "outputs": [
    {
     "name": "stdout",
     "output_type": "stream",
     "text": [
      "Function: sample_function\n",
      "Execution Time: 0.000040 seconds (for 10 runs)\n",
      "Memory Usage: 0.000000 MB (current), 0.000112 MB (peak)\n"
     ]
    }
   ],
   "source": [
    "import timeit\n",
    "import tracemalloc\n",
    "\n",
    "def sample_function(arr):\n",
    "    \"\"\" Example function: Bubble Sort \"\"\"\n",
    "    n = len(arr)\n",
    "    for i in range(n):\n",
    "        for j in range(0, n-i-1):\n",
    "            if arr[j] > arr[j+1]:\n",
    "                arr[j], arr[j+1] = arr[j+1], arr[j]\n",
    "    return arr\n",
    "\n",
    "def analyze_performance(func, *args):\n",
    "    \"\"\" Analyzes time and space complexity of a function \"\"\"\n",
    "    \n",
    "    # Time Complexity Analysis\n",
    "    execution_time = timeit.timeit(lambda: func(*args), number=10)  # Run 10 times\n",
    "    \n",
    "    # Space Complexity Analysis\n",
    "    tracemalloc.start()\n",
    "    func(*args)\n",
    "    current, peak = tracemalloc.get_traced_memory()\n",
    "    tracemalloc.stop()\n",
    "    \n",
    "    print(f\"Function: {func.__name__}\")\n",
    "    print(f\"Execution Time: {execution_time:.6f} seconds (for 10 runs)\")\n",
    "    print(f\"Memory Usage: {current / 10**6:.6f} MB (current), {peak / 10**6:.6f} MB (peak)\")\n",
    "\n",
    "# Sample test case\n",
    "sample_input = [64, 34, 25, 12, 22, 11, 90]\n",
    "analyze_performance(sample_function, sample_input)\n"
   ]
  },
  {
   "cell_type": "code",
   "execution_count": null,
   "id": "b8db993f-9986-42c4-a1a5-046206b12d5f",
   "metadata": {},
   "outputs": [],
   "source": []
  }
 ],
 "metadata": {
  "kernelspec": {
   "display_name": "Python 3 (ipykernel)",
   "language": "python",
   "name": "python3"
  },
  "language_info": {
   "codemirror_mode": {
    "name": "ipython",
    "version": 3
   },
   "file_extension": ".py",
   "mimetype": "text/x-python",
   "name": "python",
   "nbconvert_exporter": "python",
   "pygments_lexer": "ipython3",
   "version": "3.12.7"
  }
 },
 "nbformat": 4,
 "nbformat_minor": 5
}
