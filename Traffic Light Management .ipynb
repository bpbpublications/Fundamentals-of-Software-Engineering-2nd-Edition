{
 "cells": [
  {
   "cell_type": "code",
   "execution_count": 1,
   "id": "1a980856-92e7-448f-865c-5cd3f50dac52",
   "metadata": {},
   "outputs": [],
   "source": [
    "import time\n",
    "from IPython.display import clear_output\n"
   ]
  },
  {
   "cell_type": "code",
   "execution_count": 2,
   "id": "99249453-ec06-41b7-9e44-34abd9731dca",
   "metadata": {},
   "outputs": [],
   "source": [
    "class TrafficLight:\n",
    "    def __init__(self, direction):\n",
    "        self.direction = direction\n",
    "        self.state = 'RED'  # Initial state\n",
    "\n",
    "    def change_state(self, new_state):\n",
    "        self.state = new_state\n",
    "\n",
    "    def __str__(self):\n",
    "        color_map = {\n",
    "            'RED': '\\033[91mRED\\033[0m',\n",
    "            'YELLOW': '\\033[93mYELLOW\\033[0m',\n",
    "            'GREEN': '\\033[92mGREEN\\033[0m'\n",
    "        }\n",
    "        return f\"{self.direction}: {color_map[self.state]}\"\n"
   ]
  },
  {
   "cell_type": "code",
   "execution_count": 3,
   "id": "f50da282-aec3-4796-9d24-85a6254f73c8",
   "metadata": {},
   "outputs": [],
   "source": [
    "class TrafficController:\n",
    "    def __init__(self):\n",
    "        self.lights = {\n",
    "            'NORTH': TrafficLight('NORTH'),\n",
    "            'SOUTH': TrafficLight('SOUTH'),\n",
    "            'EAST': TrafficLight('EAST'),\n",
    "            'WEST': TrafficLight('WEST')\n",
    "        }\n",
    "        self.cycle_order = [('NORTH', 'SOUTH'), ('EAST', 'WEST')]\n",
    "        self.current_index = 0\n",
    "\n",
    "    def run_cycle(self, green_time=3, yellow_time=2, red_time=1):\n",
    "        for _ in range(len(self.cycle_order)):\n",
    "            green_dirs = self.cycle_order[self.current_index]\n",
    "            red_dirs = [d for d in self.lights if d not in green_dirs]\n",
    "\n",
    "            # Set green\n",
    "            for d in green_dirs:\n",
    "                self.lights[d].change_state('GREEN')\n",
    "            for d in red_dirs:\n",
    "                self.lights[d].change_state('RED')\n",
    "            self.display()\n",
    "            time.sleep(green_time)\n",
    "\n",
    "            # Set yellow\n",
    "            for d in green_dirs:\n",
    "                self.lights[d].change_state('YELLOW')\n",
    "            self.display()\n",
    "            time.sleep(yellow_time)\n",
    "\n",
    "            # Set red (all red for a moment)\n",
    "            for d in self.lights:\n",
    "                self.lights[d].change_state('RED')\n",
    "            self.display()\n",
    "            time.sleep(red_time)\n",
    "\n",
    "            # Next direction group\n",
    "            self.current_index = (self.current_index + 1) % len(self.cycle_order)\n",
    "\n",
    "    def display(self):\n",
    "        clear_output(wait=True)\n",
    "        print(\"🚦 TRAFFIC LIGHT STATES 🚦\\n\")\n",
    "        for direction in ['NORTH', 'SOUTH', 'EAST', 'WEST']:\n",
    "            print(self.lights[direction])\n",
    "        print(\"\\n------------------------\\n\")\n"
   ]
  },
  {
   "cell_type": "code",
   "execution_count": 4,
   "id": "b45086f2-8d80-4462-b0bb-e1d7e70724be",
   "metadata": {},
   "outputs": [
    {
     "name": "stdout",
     "output_type": "stream",
     "text": [
      "🚦 TRAFFIC LIGHT STATES 🚦\n",
      "\n",
      "NORTH: \u001b[91mRED\u001b[0m\n",
      "SOUTH: \u001b[91mRED\u001b[0m\n",
      "EAST: \u001b[91mRED\u001b[0m\n",
      "WEST: \u001b[91mRED\u001b[0m\n",
      "\n",
      "------------------------\n",
      "\n"
     ]
    }
   ],
   "source": [
    "controller = TrafficController()\n",
    "\n",
    "# Run multiple cycles\n",
    "for i in range(4):  # number of full cycles\n",
    "    controller.run_cycle(green_time=2, yellow_time=1, red_time=1)\n"
   ]
  },
  {
   "cell_type": "code",
   "execution_count": null,
   "id": "b282b121-c06f-4d92-9885-98954ba3ca48",
   "metadata": {},
   "outputs": [],
   "source": []
  }
 ],
 "metadata": {
  "kernelspec": {
   "display_name": "Python 3 (ipykernel)",
   "language": "python",
   "name": "python3"
  },
  "language_info": {
   "codemirror_mode": {
    "name": "ipython",
    "version": 3
   },
   "file_extension": ".py",
   "mimetype": "text/x-python",
   "name": "python",
   "nbconvert_exporter": "python",
   "pygments_lexer": "ipython3",
   "version": "3.12.7"
  }
 },
 "nbformat": 4,
 "nbformat_minor": 5
}
