{
 "cells": [
  {
   "cell_type": "code",
   "execution_count": null,
   "id": "1a980856-92e7-448f-865c-5cd3f50dac52",
   "metadata": {},
   "outputs": [],
   "source": []
  }
 ],
 "metadata": {
  "kernelspec": {
   "display_name": "",
   "name": ""
  },
  "language_info": {
   "name": ""
  }
 },
 "nbformat": 4,
 "nbformat_minor": 5
}
